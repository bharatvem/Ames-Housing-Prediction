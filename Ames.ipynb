{
 "cells": [
  {
   "cell_type": "code",
   "execution_count": 6,
   "metadata": {
    "ExecuteTime": {
     "end_time": "2017-10-30T07:55:56.141255Z",
     "start_time": "2017-10-30T07:55:56.123587Z"
    }
   },
   "outputs": [],
   "source": [
    "import numpy as np\n",
    "import pandas as pd\n",
    "import matplotlib.pyplot as plt\n",
    "import seaborn as sns; sns.set(color_codes=True)\n",
    "from sklearn.model_selection import cross_val_score"
   ]
  },
  {
   "cell_type": "code",
   "execution_count": 7,
   "metadata": {
    "ExecuteTime": {
     "end_time": "2017-10-30T07:55:57.627969Z",
     "start_time": "2017-10-30T07:55:57.541740Z"
    },
    "collapsed": true
   },
   "outputs": [],
   "source": [
    "df = pd.read_csv('train.csv')\n",
    "df_test = pd.read_csv('test.csv')"
   ]
  },
  {
   "cell_type": "code",
   "execution_count": 8,
   "metadata": {
    "ExecuteTime": {
     "end_time": "2017-10-30T07:55:58.311722Z",
     "start_time": "2017-10-30T07:55:58.004597Z"
    }
   },
   "outputs": [
    {
     "data": {
      "text/plain": [
       "['Street', 'Utilities', 'Condition2', 'RoofMatl', 'Heating']"
      ]
     },
     "execution_count": 8,
     "metadata": {},
     "output_type": "execute_result"
    }
   ],
   "source": [
    "from statistics import mode\n",
    "#check columns with categorical values if 97% are from same category then delete\n",
    "low_info = [col for col in df.select_dtypes(exclude=['number']) if 1-(sum(df[col]==mode(df[col]))/len(df)) < 0.03]\n",
    "low_info"
   ]
  },
  {
   "cell_type": "code",
   "execution_count": 9,
   "metadata": {
    "ExecuteTime": {
     "end_time": "2017-10-30T07:55:59.320207Z",
     "start_time": "2017-10-30T07:55:59.295951Z"
    },
    "collapsed": true
   },
   "outputs": [],
   "source": [
    "def df_format(data,test=False):\n",
    "    df_x,df_y = pd.DataFrame(),pd.DataFrame()\n",
    "    \n",
    "    #add columns that are not being modified\n",
    "    remove_cols = ['SalePrice','FullBath','HalfBath','BsmtFullBath','BsmtHalfBath','WoodDeckSF','OpenPorchSF','EnclosedPorch','3SsnPorch','ScreenPorch','Street', 'Utilities', 'Condition2', 'RoofMatl', 'Heating']\n",
    "    df_x = data[data.columns.difference(remove_cols)]\n",
    "    #add columns from old dataframe that are being collated\n",
    "    bath = data['FullBath']+0.5*data['HalfBath']+data['BsmtFullBath']+0.5*data['BsmtHalfBath']\n",
    "    porchsf = data[['WoodDeckSF','OpenPorchSF','EnclosedPorch','3SsnPorch','ScreenPorch']].sum(axis=1)\n",
    "    ag = {'Bath':bath,'PorchSF':porchsf}\n",
    "    df_x = pd.concat([df_x,pd.concat(ag,axis=1)],axis=1)\n",
    "    \n",
    "    df_x = df_x.fillna(df_x.median())\n",
    "    \n",
    "    if test == False:\n",
    "        df_y = np.log(data[['SalePrice']])\n",
    "        return df_x,df_y\n",
    "    else:\n",
    "        return df_x"
   ]
  },
  {
   "cell_type": "code",
   "execution_count": 10,
   "metadata": {
    "ExecuteTime": {
     "end_time": "2017-10-30T07:56:00.233776Z",
     "start_time": "2017-10-30T07:56:00.228451Z"
    },
    "collapsed": true
   },
   "outputs": [],
   "source": [
    "def get_final(dt):\n",
    "    df_submit = pd.DataFrame({'Id':range(1461,2920)})\n",
    "    df_submit['SalePrice'] = np.exp(pd.DataFrame(dt))\n",
    "    return df_submit"
   ]
  },
  {
   "cell_type": "code",
   "execution_count": 11,
   "metadata": {
    "ExecuteTime": {
     "end_time": "2017-10-30T07:56:02.150336Z",
     "start_time": "2017-10-30T07:56:01.179388Z"
    },
    "collapsed": true
   },
   "outputs": [],
   "source": [
    "df_x,df_y = df_format(df)\n",
    "df_test_x = df_format(df_test,True)\n",
    "\n",
    "# add columns that were not present in df_test_x but in df_x\n",
    "# for cols in df_x.columns.difference(df_test_x.columns):\n",
    "#     df_test_x[cols] = 0"
   ]
  },
  {
   "cell_type": "code",
   "execution_count": 12,
   "metadata": {
    "ExecuteTime": {
     "end_time": "2017-10-30T07:56:02.184269Z",
     "start_time": "2017-10-30T07:56:02.152791Z"
    },
    "collapsed": true
   },
   "outputs": [],
   "source": [
    "df_all = pd.concat([df_x,df_test_x],axis=0)"
   ]
  },
  {
   "cell_type": "code",
   "execution_count": 13,
   "metadata": {
    "ExecuteTime": {
     "end_time": "2017-10-30T07:56:06.376160Z",
     "start_time": "2017-10-30T07:56:06.232475Z"
    },
    "collapsed": true
   },
   "outputs": [],
   "source": [
    "# Convert numeric columns to categorical\n",
    "df_all.MSSubClass = df_all.MSSubClass.astype(str)\n",
    "\n",
    "# One-hot encoding\n",
    "df_all = pd.get_dummies(df_all)\n",
    "keep_cols = df_all.select_dtypes(include=['number']).columns\n",
    "df_all = df_all[keep_cols]\n",
    "\n",
    "# Converting YEAR to years-old\n",
    "for c in ['GarageYrBlt','YearBuilt','YearRemodAdd', 'YrSold']:\n",
    "    df_all[c] = df_all[c].apply(lambda x:2017-x)"
   ]
  },
  {
   "cell_type": "code",
   "execution_count": null,
   "metadata": {
    "ExecuteTime": {
     "end_time": "2017-10-22T18:19:18.868123Z",
     "start_time": "2017-10-22T18:19:18.765658Z"
    },
    "collapsed": true
   },
   "outputs": [],
   "source": [
    "# Min-Max Scaling on features & convert to numpy arrays(internally)\n",
    "from sklearn import preprocessing\n",
    "\n",
    "minmax_scale = preprocessing.MinMaxScaler().fit(df_all)\n",
    "df_minmax = minmax_scale.transform(df_all)\n",
    "\n",
    "df_x = df_minmax[0:len(df_x)]\n",
    "df_y = np.array(df_y)\n",
    "df_test_x = df_minmax[-len(df_test_x):]"
   ]
  },
  {
   "cell_type": "code",
   "execution_count": 14,
   "metadata": {
    "ExecuteTime": {
     "end_time": "2017-10-30T07:56:08.360280Z",
     "start_time": "2017-10-30T07:56:08.354014Z"
    },
    "collapsed": true
   },
   "outputs": [],
   "source": [
    "# if using only One-hot encoding\n",
    "df_x = df_all[0:len(df_x)]\n",
    "df_test_x = df_all[-len(df_test_x):]"
   ]
  },
  {
   "cell_type": "code",
   "execution_count": null,
   "metadata": {
    "ExecuteTime": {
     "end_time": "2017-10-19T00:38:51.302387Z",
     "start_time": "2017-10-19T00:38:51.296317Z"
    },
    "collapsed": true
   },
   "outputs": [],
   "source": [
    "keep_cols"
   ]
  },
  {
   "cell_type": "code",
   "execution_count": null,
   "metadata": {
    "ExecuteTime": {
     "end_time": "2017-10-22T18:32:22.045854Z",
     "start_time": "2017-10-22T18:32:22.039651Z"
    }
   },
   "outputs": [],
   "source": [
    "df_y.shape"
   ]
  },
  {
   "cell_type": "code",
   "execution_count": null,
   "metadata": {
    "ExecuteTime": {
     "end_time": "2017-10-22T18:32:22.981957Z",
     "start_time": "2017-10-22T18:32:22.976108Z"
    }
   },
   "outputs": [],
   "source": [
    "df_test_x.shape"
   ]
  },
  {
   "cell_type": "code",
   "execution_count": null,
   "metadata": {
    "ExecuteTime": {
     "end_time": "2017-10-17T18:17:38.766914Z",
     "start_time": "2017-10-17T18:17:38.511486Z"
    },
    "collapsed": true
   },
   "outputs": [],
   "source": [
    "f, (ax1,ax2) = plt.subplots(nrows=1,ncols=2, sharey=True)"
   ]
  },
  {
   "cell_type": "markdown",
   "metadata": {
    "heading_collapsed": true
   },
   "source": [
    "### Descision Tree Regressor"
   ]
  },
  {
   "cell_type": "code",
   "execution_count": 33,
   "metadata": {
    "ExecuteTime": {
     "end_time": "2017-10-30T08:13:13.744940Z",
     "start_time": "2017-10-30T08:13:13.738238Z"
    },
    "collapsed": true,
    "hidden": true
   },
   "outputs": [],
   "source": [
    "from sklearn.tree import DecisionTreeRegressor\n",
    "# from sklearn.cross_validation import cross_val_score\n",
    "from sklearn.model_selection import cross_val_score\n",
    "from sklearn import metrics\n",
    "from sklearn.model_selection import KFold\n",
    "crossvalidation = KFold(n_splits=10, shuffle=True, random_state=1)"
   ]
  },
  {
   "cell_type": "code",
   "execution_count": 34,
   "metadata": {
    "ExecuteTime": {
     "end_time": "2017-10-30T08:13:54.802356Z",
     "start_time": "2017-10-30T08:13:44.140899Z"
    },
    "collapsed": true,
    "hidden": true
   },
   "outputs": [],
   "source": [
    "x_axis,y_axis,z_axis = [],[],[]\n",
    "for j in range(2,21):\n",
    "    regression_tree = DecisionTreeRegressor(min_samples_split=20, min_samples_leaf=j,random_state=0)\n",
    "    reg_fit = regression_tree.fit(df_x,df_y)\n",
    "    cv_scores = cross_val_score(cv=crossvalidation,X=df_x,y=df_y,estimator=reg_fit)\n",
    "    x_axis.append(j)\n",
    "    y_axis.append(np.std(cv_scores))\n",
    "    z_axis.append(np.mean(cv_scores))"
   ]
  },
  {
   "cell_type": "code",
   "execution_count": 35,
   "metadata": {
    "ExecuteTime": {
     "end_time": "2017-10-30T08:13:55.359494Z",
     "start_time": "2017-10-30T08:13:54.805110Z"
    },
    "hidden": true
   },
   "outputs": [
    {
     "data": {
      "image/png": "[encoded data removed]",
      "text/plain": [
       "<matplotlib.figure.Figure at 0x7f17ac6c4390>"
      ]
     },
     "metadata": {},
     "output_type": "display_data"
    }
   ],
   "source": [
    "sns.pointplot(x_axis,y_axis)\n",
    "# sns.pointplot(x_axis,z_axis,ax=ax2)\n",
    "plt.show()"
   ]
  },
  {
   "cell_type": "code",
   "execution_count": 36,
   "metadata": {
    "ExecuteTime": {
     "end_time": "2017-10-30T08:13:55.875874Z",
     "start_time": "2017-10-30T08:13:55.362101Z"
    },
    "hidden": true
   },
   "outputs": [
    {
     "data": {
      "image/png": "[encoded data removed]",
      "text/plain": [
       "<matplotlib.figure.Figure at 0x7f177418d940>"
      ]
     },
     "metadata": {},
     "output_type": "display_data"
    }
   ],
   "source": [
    "sns.pointplot(x_axis,z_axis)\n",
    "plt.show()"
   ]
  },
  {
   "cell_type": "code",
   "execution_count": 37,
   "metadata": {
    "ExecuteTime": {
     "end_time": "2017-10-30T08:13:56.426933Z",
     "start_time": "2017-10-30T08:13:55.878393Z"
    },
    "hidden": true
   },
   "outputs": [
    {
     "data": {
      "image/png": "[encoded data removed]",
      "text/plain": [
       "<matplotlib.figure.Figure at 0x7f1774157dd8>"
      ]
     },
     "metadata": {},
     "output_type": "display_data"
    }
   ],
   "source": [
    "sns.pointplot(y_axis,z_axis)\n",
    "plt.show()"
   ]
  },
  {
   "cell_type": "code",
   "execution_count": 38,
   "metadata": {
    "ExecuteTime": {
     "end_time": "2017-10-30T08:15:02.202563Z",
     "start_time": "2017-10-30T08:15:02.189322Z"
    },
    "hidden": true
   },
   "outputs": [
    {
     "data": {
      "text/plain": [
       "0.85567249806861234"
      ]
     },
     "execution_count": 38,
     "metadata": {},
     "output_type": "execute_result"
    }
   ],
   "source": [
    "metrics.r2_score(y_pred=reg_fit.predict(df_x),y_true=df_y)"
   ]
  },
  {
   "cell_type": "code",
   "execution_count": null,
   "metadata": {
    "ExecuteTime": {
     "end_time": "2017-10-17T00:46:17.497336Z",
     "start_time": "2017-10-17T00:46:17.474751Z"
    },
    "collapsed": true,
    "hidden": true
   },
   "outputs": [],
   "source": [
    "get_final(reg_fit.predict(df_test_x)).to_csv(\"decision_tree_regression.csv\",index=None)"
   ]
  },
  {
   "cell_type": "markdown",
   "metadata": {
    "heading_collapsed": true
   },
   "source": [
    "### Random Forest Regressor"
   ]
  },
  {
   "cell_type": "code",
   "execution_count": 25,
   "metadata": {
    "ExecuteTime": {
     "end_time": "2017-10-30T08:09:16.811349Z",
     "start_time": "2017-10-30T08:09:16.705540Z"
    },
    "collapsed": true,
    "hidden": true
   },
   "outputs": [],
   "source": [
    "from sklearn.ensemble import RandomForestRegressor\n",
    "from sklearn.model_selection import GridSearchCV"
   ]
  },
  {
   "cell_type": "code",
   "execution_count": 26,
   "metadata": {
    "ExecuteTime": {
     "end_time": "2017-10-30T08:09:26.339215Z",
     "start_time": "2017-10-30T08:09:26.332757Z"
    },
    "collapsed": true,
    "hidden": true
   },
   "outputs": [],
   "source": [
    "rfr = RandomForestRegressor()\n",
    "params = {'max_depth': [20,30,40], 'n_estimators': [500], 'max_features': [100,140,160]} \n",
    "gsCV = GridSearchCV(estimator = rfr, param_grid = params, cv = 5, n_jobs = -1, verbose = 3,refit=True)"
   ]
  },
  {
   "cell_type": "code",
   "execution_count": null,
   "metadata": {
    "ExecuteTime": {
     "end_time": "2017-10-18T21:01:26.328553Z",
     "start_time": "2017-10-18T20:59:32.827526Z"
    },
    "collapsed": true,
    "hidden": true
   },
   "outputs": [],
   "source": [
    "gsCV.fit(df_x,df_y.values.ravel())"
   ]
  },
  {
   "cell_type": "code",
   "execution_count": null,
   "metadata": {
    "ExecuteTime": {
     "end_time": "2017-10-18T21:01:31.713807Z",
     "start_time": "2017-10-18T21:01:31.708315Z"
    },
    "collapsed": true,
    "hidden": true
   },
   "outputs": [],
   "source": [
    "print(gsCV.best_estimator_)"
   ]
  },
  {
   "cell_type": "code",
   "execution_count": 27,
   "metadata": {
    "ExecuteTime": {
     "end_time": "2017-10-30T08:09:29.313906Z",
     "start_time": "2017-10-30T08:09:29.308681Z"
    },
    "collapsed": true,
    "hidden": true
   },
   "outputs": [],
   "source": [
    "from sklearn.model_selection import cross_val_score\n",
    "from sklearn.model_selection import KFold\n",
    "crossvalidation = KFold(n_splits=10, shuffle=True, random_state=1)"
   ]
  },
  {
   "cell_type": "code",
   "execution_count": 28,
   "metadata": {
    "ExecuteTime": {
     "end_time": "2017-10-30T08:09:46.208585Z",
     "start_time": "2017-10-30T08:09:32.200361Z"
    },
    "hidden": true
   },
   "outputs": [
    {
     "data": {
      "text/plain": [
       "RandomForestRegressor(bootstrap=True, criterion='mse', max_depth=20,\n",
       "           max_features=100, max_leaf_nodes=None, min_impurity_split=1e-07,\n",
       "           min_samples_leaf=1, min_samples_split=2,\n",
       "           min_weight_fraction_leaf=0.0, n_estimators=500, n_jobs=1,\n",
       "           oob_score=True, random_state=None, verbose=0, warm_start=False)"
      ]
     },
     "execution_count": 28,
     "metadata": {},
     "output_type": "execute_result"
    }
   ],
   "source": [
    "rfr_n = RandomForestRegressor(bootstrap=True, criterion='mse', max_depth=20,\n",
    "           max_features=100, n_estimators=500, n_jobs=1,\n",
    "           oob_score=True, random_state=None)\n",
    "rfr_n.fit(df_x,df_y.values.ravel())"
   ]
  },
  {
   "cell_type": "code",
   "execution_count": 29,
   "metadata": {
    "ExecuteTime": {
     "end_time": "2017-10-30T08:10:00.969319Z",
     "start_time": "2017-10-30T08:09:46.212033Z"
    },
    "collapsed": true,
    "hidden": true
   },
   "outputs": [],
   "source": [
    "cv_score = cross_val_score(estimator=rfr_n, X=df_x, y=df_y.values.ravel(), cv = 10, n_jobs = -1)"
   ]
  },
  {
   "cell_type": "code",
   "execution_count": 30,
   "metadata": {
    "ExecuteTime": {
     "end_time": "2017-10-30T08:10:00.979328Z",
     "start_time": "2017-10-30T08:10:00.972480Z"
    },
    "hidden": true
   },
   "outputs": [
    {
     "data": {
      "text/plain": [
       "0.88542370223375211"
      ]
     },
     "execution_count": 30,
     "metadata": {},
     "output_type": "execute_result"
    }
   ],
   "source": [
    "np.mean(cv_score)"
   ]
  },
  {
   "cell_type": "code",
   "execution_count": 31,
   "metadata": {
    "ExecuteTime": {
     "end_time": "2017-10-30T08:10:36.635123Z",
     "start_time": "2017-10-30T08:10:36.321144Z"
    },
    "hidden": true
   },
   "outputs": [
    {
     "data": {
      "text/plain": [
       "0.98417163906310534"
      ]
     },
     "execution_count": 31,
     "metadata": {},
     "output_type": "execute_result"
    }
   ],
   "source": [
    "metrics.r2_score(y_pred=rfr_n.predict(df_x),y_true=df_y)"
   ]
  },
  {
   "cell_type": "code",
   "execution_count": null,
   "metadata": {
    "ExecuteTime": {
     "end_time": "2017-10-17T21:05:54.822285Z",
     "start_time": "2017-10-17T21:05:54.815441Z"
    },
    "collapsed": true,
    "hidden": true
   },
   "outputs": [],
   "source": [
    "df_test_x.shape"
   ]
  },
  {
   "cell_type": "code",
   "execution_count": null,
   "metadata": {
    "ExecuteTime": {
     "end_time": "2017-10-17T21:06:30.500615Z",
     "start_time": "2017-10-17T21:06:30.186232Z"
    },
    "collapsed": true,
    "hidden": true
   },
   "outputs": [],
   "source": [
    "get_final(rfr_n.predict(df_test_x)).to_csv(\"random_forest_regression.csv\",index=None)"
   ]
  },
  {
   "cell_type": "markdown",
   "metadata": {
    "heading_collapsed": true
   },
   "source": [
    "### Random Prediction - Inverse Transform Sampling"
   ]
  },
  {
   "cell_type": "code",
   "execution_count": null,
   "metadata": {
    "ExecuteTime": {
     "end_time": "2017-10-26T07:45:32.187002Z",
     "start_time": "2017-10-26T07:45:32.174794Z"
    },
    "hidden": true
   },
   "outputs": [],
   "source": [
    "np.histogram(df_y,bins=20)"
   ]
  },
  {
   "cell_type": "code",
   "execution_count": null,
   "metadata": {
    "ExecuteTime": {
     "end_time": "2017-10-26T03:28:02.651905Z",
     "start_time": "2017-10-26T03:28:02.640021Z"
    },
    "collapsed": true,
    "hidden": true
   },
   "outputs": [],
   "source": [
    "import scipy.interpolate as interpolate\n",
    " \n",
    "def inverse_transform_sampling(data, n_bins=40, n_samples=1000):\n",
    "    hist, bin_edges = np.histogram(data, bins=n_bins, density=True)\n",
    "    cum_values = np.zeros(bin_edges.shape)\n",
    "    cum_values[1:] = np.cumsum(hist*np.diff(bin_edges))\n",
    "    inv_cdf = interpolate.interp1d(cum_values, bin_edges)\n",
    "    r = np.random.rand(n_samples)\n",
    "    return inv_cdf(r)"
   ]
  },
  {
   "cell_type": "code",
   "execution_count": null,
   "metadata": {
    "ExecuteTime": {
     "end_time": "2017-10-16T22:52:44.104905Z",
     "start_time": "2017-10-16T22:52:44.080148Z"
    },
    "collapsed": true,
    "hidden": true
   },
   "outputs": [],
   "source": [
    "df_submit['sale1'] = inverse_transform_sampling(np.log(df_y),n_bins=40,n_samples=1459)\n",
    "df_submit['sale2'] = inverse_transform_sampling(np.log(df_y),n_bins=40,n_samples=1459)\n",
    "df_submit['sale3'] = inverse_transform_sampling(np.log(df_y),n_bins=40,n_samples=1459)\n",
    "df_submit['sale4'] = inverse_transform_sampling(np.log(df_y),n_bins=40,n_samples=1459)\n",
    "df_submit['sale5'] = inverse_transform_sampling(np.log(df_y),n_bins=40,n_samples=1459)\n",
    "df_submit['sale6'] = inverse_transform_sampling(np.log(df_y),n_bins=40,n_samples=1459)\n",
    "df_submit['sale7'] = inverse_transform_sampling(np.log(df_y),n_bins=40,n_samples=1459)"
   ]
  },
  {
   "cell_type": "code",
   "execution_count": null,
   "metadata": {
    "ExecuteTime": {
     "end_time": "2017-10-16T22:53:07.122702Z",
     "start_time": "2017-10-16T22:53:07.115156Z"
    },
    "collapsed": true,
    "hidden": true
   },
   "outputs": [],
   "source": [
    "df_submit['SalePrice'] = np.exp(df_submit[['sale1','sale2','sale3','sale4','sale5','sale6','sale7']].mean(axis=1))"
   ]
  },
  {
   "cell_type": "code",
   "execution_count": null,
   "metadata": {
    "ExecuteTime": {
     "end_time": "2017-10-17T20:05:11.682289Z",
     "start_time": "2017-10-17T20:05:11.318942Z"
    },
    "collapsed": true,
    "hidden": true
   },
   "outputs": [],
   "source": [
    "df_submit[['Id','SalePrice']].to_csv(\"sub_random.csv\",index=None)"
   ]
  },
  {
   "cell_type": "markdown",
   "metadata": {
    "heading_collapsed": true
   },
   "source": [
    "### Unskew"
   ]
  },
  {
   "cell_type": "code",
   "execution_count": null,
   "metadata": {
    "collapsed": true,
    "hidden": true
   },
   "outputs": [],
   "source": []
  },
  {
   "cell_type": "code",
   "execution_count": null,
   "metadata": {
    "ExecuteTime": {
     "end_time": "2017-10-18T21:08:51.845907Z",
     "start_time": "2017-10-18T21:08:51.834254Z"
    },
    "collapsed": true,
    "hidden": true
   },
   "outputs": [],
   "source": [
    "df_x['MSSubClass']"
   ]
  },
  {
   "cell_type": "code",
   "execution_count": null,
   "metadata": {
    "ExecuteTime": {
     "end_time": "2017-10-18T20:55:58.207733Z",
     "start_time": "2017-10-18T20:55:58.168927Z"
    },
    "collapsed": true,
    "hidden": true
   },
   "outputs": [],
   "source": [
    "df_x.skew()>25"
   ]
  },
  {
   "cell_type": "code",
   "execution_count": null,
   "metadata": {
    "ExecuteTime": {
     "end_time": "2017-10-18T20:26:42.110502Z",
     "start_time": "2017-10-18T20:26:42.073758Z"
    },
    "collapsed": true,
    "hidden": true
   },
   "outputs": [],
   "source": [
    "df_x.kurt()"
   ]
  },
  {
   "cell_type": "markdown",
   "metadata": {
    "heading_collapsed": true
   },
   "source": [
    "### XGBoost"
   ]
  },
  {
   "cell_type": "code",
   "execution_count": 23,
   "metadata": {
    "ExecuteTime": {
     "end_time": "2017-10-30T08:02:59.311249Z",
     "start_time": "2017-10-30T08:02:59.306421Z"
    },
    "hidden": true
   },
   "outputs": [],
   "source": [
    "from xgboost.sklearn import XGBRegressor\n",
    "from sklearn.grid_search import GridSearchCV\n",
    "from sklearn import metrics"
   ]
  },
  {
   "cell_type": "code",
   "execution_count": null,
   "metadata": {
    "ExecuteTime": {
     "end_time": "2017-10-30T07:42:48.329124Z",
     "start_time": "2017-10-30T07:42:48.323796Z"
    },
    "hidden": true
   },
   "outputs": [],
   "source": [
    "params = {'learning_rate': [0.03,0.04,0.5], 'n_estimators': [500], 'max_depth': [3,4,5], 'colsample_bytree':[0.3,0.4,0.5]} \n",
    "gsCV = GridSearchCV(estimator = XGBRegressor(), param_grid = params, cv = 5, n_jobs = -1, verbose = 3,refit=True)"
   ]
  },
  {
   "cell_type": "code",
   "execution_count": null,
   "metadata": {
    "ExecuteTime": {
     "start_time": "2017-10-30T07:42:50.067Z"
    },
    "hidden": true
   },
   "outputs": [],
   "source": [
    "gsCV.fit(df_x,df_y.values.ravel())"
   ]
  },
  {
   "cell_type": "code",
   "execution_count": null,
   "metadata": {
    "ExecuteTime": {
     "start_time": "2017-10-30T07:43:20.842Z"
    },
    "collapsed": true,
    "hidden": true
   },
   "outputs": [],
   "source": [
    "print(gsCV.best_estimator_)"
   ]
  },
  {
   "cell_type": "code",
   "execution_count": 16,
   "metadata": {
    "ExecuteTime": {
     "end_time": "2017-10-30T07:56:32.877531Z",
     "start_time": "2017-10-30T07:56:32.871763Z"
    },
    "hidden": true
   },
   "outputs": [
    {
     "data": {
      "text/plain": [
       "271"
      ]
     },
     "execution_count": 16,
     "metadata": {},
     "output_type": "execute_result"
    }
   ],
   "source": [
    "len(set(df_x.columns))"
   ]
  },
  {
   "cell_type": "code",
   "execution_count": 17,
   "metadata": {
    "ExecuteTime": {
     "end_time": "2017-10-30T07:56:58.106822Z",
     "start_time": "2017-10-30T07:56:37.937718Z"
    },
    "hidden": true
   },
   "outputs": [
    {
     "data": {
      "text/plain": [
       "XGBRegressor(base_score=0.5, colsample_bylevel=1, colsample_bytree=0.4,\n",
       "       gamma=0, learning_rate=0.04, max_delta_step=0, max_depth=3,\n",
       "       min_child_weight=1, missing=None, n_estimators=500, nthread=-1,\n",
       "       objective='reg:linear', reg_alpha=0, reg_lambda=1,\n",
       "       scale_pos_weight=1, seed=0, silent=True, subsample=1)"
      ]
     },
     "execution_count": 17,
     "metadata": {},
     "output_type": "execute_result"
    }
   ],
   "source": [
    "xgb = XGBRegressor(learning_rate=0.04,n_estimators=500,max_depth=3,colsample_bytree=0.4)\n",
    "cv_score = cross_val_score(estimator=xgb, X=df_x, y=df_y, cv = 10, n_jobs = -1,scoring=sklearn.metrics)\n",
    "xgb.fit(df_x,df_y)"
   ]
  },
  {
   "cell_type": "code",
   "execution_count": 18,
   "metadata": {
    "ExecuteTime": {
     "end_time": "2017-10-30T07:56:58.150091Z",
     "start_time": "2017-10-30T07:56:58.115949Z"
    },
    "hidden": true
   },
   "outputs": [
    {
     "data": {
      "text/plain": [
       "0.91259777036196787"
      ]
     },
     "execution_count": 18,
     "metadata": {},
     "output_type": "execute_result"
    }
   ],
   "source": [
    "np.mean(cv_score)"
   ]
  },
  {
   "cell_type": "code",
   "execution_count": 19,
   "metadata": {
    "ExecuteTime": {
     "end_time": "2017-10-30T07:57:02.793432Z",
     "start_time": "2017-10-30T07:57:02.786438Z"
    },
    "hidden": true
   },
   "outputs": [
    {
     "data": {
      "text/plain": [
       "0.023143887748984196"
      ]
     },
     "execution_count": 19,
     "metadata": {},
     "output_type": "execute_result"
    }
   ],
   "source": [
    "np.std(cv_score)"
   ]
  },
  {
   "cell_type": "code",
   "execution_count": 24,
   "metadata": {
    "ExecuteTime": {
     "end_time": "2017-10-30T08:03:57.880539Z",
     "start_time": "2017-10-30T08:03:57.837291Z"
    },
    "hidden": true
   },
   "outputs": [
    {
     "data": {
      "text/plain": [
       "0.96835276414708371"
      ]
     },
     "execution_count": 24,
     "metadata": {},
     "output_type": "execute_result"
    }
   ],
   "source": [
    "metrics.r2_score(y_pred=xgb.predict(df_x),y_true=df_y)"
   ]
  },
  {
   "cell_type": "code",
   "execution_count": null,
   "metadata": {
    "ExecuteTime": {
     "end_time": "2017-10-22T18:25:00.899735Z",
     "start_time": "2017-10-22T18:25:00.831647Z"
    },
    "collapsed": true,
    "hidden": true
   },
   "outputs": [],
   "source": [
    "get_final(xgb.predict(df_test_x)).to_csv(\"XGBoost.csv\",index=None) "
   ]
  },
  {
   "cell_type": "code",
   "execution_count": null,
   "metadata": {
    "ExecuteTime": {
     "end_time": "2017-10-22T18:31:14.683697Z",
     "start_time": "2017-10-22T18:31:14.528405Z"
    },
    "hidden": true
   },
   "outputs": [],
   "source": [
    "df_x"
   ]
  },
  {
   "cell_type": "markdown",
   "metadata": {
    "heading_collapsed": true
   },
   "source": [
    "### Neural Network"
   ]
  },
  {
   "cell_type": "code",
   "execution_count": null,
   "metadata": {
    "ExecuteTime": {
     "end_time": "2017-10-21T20:31:46.459547Z",
     "start_time": "2017-10-21T20:31:46.453732Z"
    },
    "collapsed": true,
    "hidden": true
   },
   "outputs": [],
   "source": [
    "from keras.models import Sequential\n",
    "from keras.layers.core import Dense\n",
    "from keras.callbacks import EarlyStopping\n",
    "from keras import metrics"
   ]
  },
  {
   "cell_type": "code",
   "execution_count": null,
   "metadata": {
    "ExecuteTime": {
     "end_time": "2017-10-21T23:05:33.839135Z",
     "start_time": "2017-10-21T23:05:33.831817Z"
    },
    "collapsed": true,
    "hidden": true
   },
   "outputs": [],
   "source": [
    "# for i in range(0,256):\n",
    "#     len(pd.DataFrame(df_x).iloc[1,:])\n",
    "df_sample_y = inverse_transform_sampling(pd.DataFrame(df_y),40,14600)"
   ]
  },
  {
   "cell_type": "code",
   "execution_count": null,
   "metadata": {
    "ExecuteTime": {
     "end_time": "2017-10-21T23:05:35.227544Z",
     "start_time": "2017-10-21T23:05:35.222267Z"
    },
    "collapsed": true,
    "hidden": true
   },
   "outputs": [],
   "source": [
    "df_sample_y.shape"
   ]
  },
  {
   "cell_type": "code",
   "execution_count": null,
   "metadata": {
    "collapsed": true,
    "hidden": true
   },
   "outputs": [],
   "source": [
    "inverse_transform_sampling()"
   ]
  },
  {
   "cell_type": "code",
   "execution_count": null,
   "metadata": {
    "ExecuteTime": {
     "end_time": "2017-10-21T22:30:37.590909Z",
     "start_time": "2017-10-21T22:30:37.587114Z"
    },
    "collapsed": true,
    "hidden": true
   },
   "outputs": [],
   "source": [
    "model = Sequential()"
   ]
  },
  {
   "cell_type": "code",
   "execution_count": null,
   "metadata": {
    "ExecuteTime": {
     "end_time": "2017-10-21T22:30:39.146977Z",
     "start_time": "2017-10-21T22:30:38.674660Z"
    },
    "collapsed": true,
    "hidden": true
   },
   "outputs": [],
   "source": [
    "model.add(Dense(600,activation='relu',input_shape=df_x[1,].shape))"
   ]
  },
  {
   "cell_type": "code",
   "execution_count": null,
   "metadata": {
    "ExecuteTime": {
     "end_time": "2017-10-21T22:30:40.362295Z",
     "start_time": "2017-10-21T22:30:39.917745Z"
    },
    "collapsed": true,
    "hidden": true
   },
   "outputs": [],
   "source": [
    "model.add(Dense(600,activation='relu'))"
   ]
  },
  {
   "cell_type": "code",
   "execution_count": null,
   "metadata": {
    "ExecuteTime": {
     "end_time": "2017-10-21T22:30:40.864807Z",
     "start_time": "2017-10-21T22:30:40.544644Z"
    },
    "collapsed": true,
    "hidden": true
   },
   "outputs": [],
   "source": [
    "model.add(Dense(600,activation='relu'))"
   ]
  },
  {
   "cell_type": "code",
   "execution_count": null,
   "metadata": {
    "ExecuteTime": {
     "end_time": "2017-10-21T22:30:43.090426Z",
     "start_time": "2017-10-21T22:30:42.877889Z"
    },
    "collapsed": true,
    "hidden": true
   },
   "outputs": [],
   "source": [
    "model.add(Dense(1))"
   ]
  },
  {
   "cell_type": "code",
   "execution_count": null,
   "metadata": {
    "collapsed": true,
    "hidden": true
   },
   "outputs": [],
   "source": [
    "import keras.backend as K\n",
    "\n",
    "def R2_Error(y_true,y_pred):\n",
    "    "
   ]
  },
  {
   "cell_type": "code",
   "execution_count": null,
   "metadata": {
    "ExecuteTime": {
     "end_time": "2017-10-21T22:33:37.908901Z",
     "start_time": "2017-10-21T22:33:37.883110Z"
    },
    "collapsed": true,
    "hidden": true
   },
   "outputs": [],
   "source": [
    "from keras.optimizers import Adam\n",
    "\n",
    "adam_opti = Adam(lr=0.0001,decay=0.80)\n",
    "\n",
    "model.compile(optimizer=adam_opti,\n",
    "             loss='mean_squared_error')"
   ]
  },
  {
   "cell_type": "code",
   "execution_count": null,
   "metadata": {
    "ExecuteTime": {
     "end_time": "2017-10-21T22:31:12.588700Z",
     "start_time": "2017-10-21T22:31:12.584879Z"
    },
    "collapsed": true,
    "hidden": true
   },
   "outputs": [],
   "source": [
    "es = EarlyStopping(monitor='loss',patience=5)"
   ]
  },
  {
   "cell_type": "code",
   "execution_count": null,
   "metadata": {
    "ExecuteTime": {
     "end_time": "2017-10-21T22:16:42.564089Z",
     "start_time": "2017-10-21T22:16:42.556830Z"
    },
    "collapsed": true,
    "hidden": true
   },
   "outputs": [],
   "source": [
    "x_train = np.array(df_x)\n",
    "y_train = np.array(df_y)"
   ]
  },
  {
   "cell_type": "code",
   "execution_count": null,
   "metadata": {
    "ExecuteTime": {
     "end_time": "2017-10-21T22:35:50.907393Z",
     "start_time": "2017-10-21T22:33:37.911756Z"
    },
    "collapsed": true,
    "hidden": true
   },
   "outputs": [],
   "source": [
    "model.fit(df_x,df_y,validation_split=0.3,epochs=100,callbacks=[es])"
   ]
  },
  {
   "cell_type": "code",
   "execution_count": null,
   "metadata": {
    "ExecuteTime": {
     "end_time": "2017-10-21T22:17:43.011680Z",
     "start_time": "2017-10-21T22:17:42.991752Z"
    },
    "collapsed": true,
    "hidden": true
   },
   "outputs": [],
   "source": [
    "cross_val_score(estimator=rfr_n, X=df_x, y=df_y.values.ravel(), cv = 10, n_jobs = -1)\n",
    "# model.predict(df_test_x)"
   ]
  },
  {
   "cell_type": "code",
   "execution_count": null,
   "metadata": {
    "ExecuteTime": {
     "end_time": "2017-10-21T22:44:28.354618Z",
     "start_time": "2017-10-21T22:44:27.988078Z"
    },
    "collapsed": true,
    "hidden": true
   },
   "outputs": [],
   "source": [
    "sub = get_final(pd.DataFrame(model.predict(df_x)))"
   ]
  },
  {
   "cell_type": "code",
   "execution_count": null,
   "metadata": {
    "ExecuteTime": {
     "end_time": "2017-10-21T22:44:29.086454Z",
     "start_time": "2017-10-21T22:44:29.069691Z"
    },
    "collapsed": true,
    "hidden": true
   },
   "outputs": [],
   "source": [
    "sub.to_csv(\"NN.csv\",index=False)"
   ]
  },
  {
   "cell_type": "code",
   "execution_count": null,
   "metadata": {
    "ExecuteTime": {
     "end_time": "2017-10-22T18:04:57.448620Z",
     "start_time": "2017-10-22T18:04:57.125205Z"
    },
    "collapsed": true,
    "hidden": true
   },
   "outputs": [],
   "source": [
    "from sklearn import preprocessing\n",
    "\n",
    "# std_scale = preprocessing.MinMaxScaler().fit(df_x)\n",
    "# df_std = std_scale.transform(df_x)\n",
    "minmax_scale = preprocessing.MinMaxScaler().fit(df_x)\n",
    "df_minmax = minmax_scale.transform(df_x)"
   ]
  },
  {
   "cell_type": "code",
   "execution_count": null,
   "metadata": {
    "ExecuteTime": {
     "end_time": "2017-10-21T15:03:34.669699Z",
     "start_time": "2017-10-21T15:03:34.661695Z"
    },
    "collapsed": true,
    "hidden": true
   },
   "outputs": [],
   "source": [
    "df_minmax"
   ]
  },
  {
   "cell_type": "code",
   "execution_count": null,
   "metadata": {
    "ExecuteTime": {
     "end_time": "2017-10-21T14:54:08.767533Z",
     "start_time": "2017-10-21T14:54:08.762061Z"
    },
    "collapsed": true,
    "hidden": true
   },
   "outputs": [],
   "source": [
    "df_x.shape"
   ]
  },
  {
   "cell_type": "code",
   "execution_count": null,
   "metadata": {
    "ExecuteTime": {
     "end_time": "2017-10-21T14:54:12.437593Z",
     "start_time": "2017-10-21T14:54:12.432268Z"
    },
    "collapsed": true,
    "hidden": true
   },
   "outputs": [],
   "source": [
    "df_std.shape"
   ]
  },
  {
   "cell_type": "code",
   "execution_count": null,
   "metadata": {
    "ExecuteTime": {
     "end_time": "2017-10-24T18:50:08.649597Z",
     "start_time": "2017-10-24T18:50:08.581886Z"
    },
    "hidden": true
   },
   "outputs": [],
   "source": [
    "df_x.corr"
   ]
  },
  {
   "cell_type": "markdown",
   "metadata": {},
   "source": [
    "### Elastic search"
   ]
  },
  {
   "cell_type": "code",
   "execution_count": null,
   "metadata": {
    "collapsed": true
   },
   "outputs": [],
   "source": []
  },
  {
   "cell_type": "markdown",
   "metadata": {},
   "source": [
    "### Ensemble reports"
   ]
  },
  {
   "cell_type": "code",
   "execution_count": 59,
   "metadata": {
    "ExecuteTime": {
     "end_time": "2017-10-30T08:26:04.131087Z",
     "start_time": "2017-10-30T08:26:03.752977Z"
    },
    "collapsed": true
   },
   "outputs": [],
   "source": [
    "ensmble = 0.94*xgb.predict(df_x) + 0.06*rfr_n.predict(df_x)"
   ]
  },
  {
   "cell_type": "code",
   "execution_count": 65,
   "metadata": {
    "ExecuteTime": {
     "end_time": "2017-10-30T08:33:15.222312Z",
     "start_time": "2017-10-30T08:33:15.214943Z"
    }
   },
   "outputs": [
    {
     "data": {
      "text/plain": [
       "0.069054902021745551"
      ]
     },
     "execution_count": 65,
     "metadata": {},
     "output_type": "execute_result"
    }
   ],
   "source": [
    "np.sqrt(metrics.mean_squared_error(y_pred=ensmble,y_true=df_y))"
   ]
  },
  {
   "cell_type": "code",
   "execution_count": 61,
   "metadata": {
    "ExecuteTime": {
     "end_time": "2017-10-30T08:26:04.708474Z",
     "start_time": "2017-10-30T08:26:04.702039Z"
    }
   },
   "outputs": [
    {
     "data": {
      "text/plain": [
       "97.009404487785673"
      ]
     },
     "execution_count": 61,
     "metadata": {},
     "output_type": "execute_result"
    }
   ],
   "source": [
    "metrics.r2_score(y_pred=ensmble,y_true=df_y)*100"
   ]
  },
  {
   "cell_type": "code",
   "execution_count": 62,
   "metadata": {
    "ExecuteTime": {
     "end_time": "2017-10-30T08:26:09.788013Z",
     "start_time": "2017-10-30T08:26:09.423674Z"
    },
    "collapsed": true
   },
   "outputs": [],
   "source": [
    "get_final((xgb.predict(df_test_x)+rfr_n.predict(df_test_x))/2).to_csv(\"Mix-XG-RFR.csv\",index=None) "
   ]
  },
  {
   "cell_type": "code",
   "execution_count": 64,
   "metadata": {
    "ExecuteTime": {
     "end_time": "2017-10-30T08:32:17.332976Z",
     "start_time": "2017-10-30T08:32:17.289882Z"
    }
   },
   "outputs": [
    {
     "data": {
      "text/plain": [
       "0.96835276414708371"
      ]
     },
     "execution_count": 64,
     "metadata": {},
     "output_type": "execute_result"
    }
   ],
   "source": [
    "xgb.score(df_x,df_y)"
   ]
  }
 ],
 "metadata": {
  "kernelspec": {
   "display_name": "Python 3",
   "language": "python",
   "name": "python3"
  },
  "language_info": {
   "codemirror_mode": {
    "name": "ipython",
    "version": 3
   },
   "file_extension": ".py",
   "mimetype": "text/x-python",
   "name": "python",
   "nbconvert_exporter": "python",
   "pygments_lexer": "ipython3",
   "version": "3.6.1"
  }
 },
 "nbformat": 4,
 "nbformat_minor": 2
}
